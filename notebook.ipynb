{
 "cells": [
  {
   "cell_type": "markdown",
   "id": "forward-garden",
   "metadata": {
    "id": "bA5ajAmk7XH6"
   },
   "source": [
    "### Project Brief\n",
    "\n",
    "You are on the data science team for a coffee company that is looking to expand their business into Ukraine. They want to get an understanding of the existing coffee shop market there.\n",
    "\n",
    "You have a dataset from Google businesses. It contains information about coffee shops in Ukraine. The marketing manager wants to identify the key coffee shop segments. They will use this to construct their marketing plan. In their current location, they split the market into 5 segments. The marketing manager wants to know how many segments are in this new market, and their key features.\n",
    "\n",
    "You will be presenting your findings to the Marketing Manager, who has no data science background.\n",
    "\n",
    "The data you will use for this analysis can be accessed here: `\"coffee_shops.csv\"`"
   ]
  },
  {
   "cell_type": "markdown",
   "id": "f1495cb5-c6fb-47c0-93bd-e169619aafb6",
   "metadata": {},
   "source": [
    "<b> Variables and their definitions: </b>"
   ]
  },
  {
   "cell_type": "markdown",
   "id": "d96cd760-cc76-4da3-8fff-fb2484d8f5bf",
   "metadata": {},
   "source": [
    "|Variable|Definition|\n",
    "|--------|----------|\n",
    "|Region|Character, one of 10 possible regions where coffee shop is located|\n",
    "|Place name|Character, name of the shop|\n",
    "|Place type|Character, the type of coffee shop (e.g., “Cafe”, “Espresso Bar”...)|\n",
    "|Rating|Numeric, coffee shop rating (on a 5 point scale)|\n",
    "|Reviews|Numeric, number of reviews provided for the shop|\n",
    "|Price|Character, price category (e.g., \\$, \\$\\$)|\n",
    "|Delivery option|True/False, describing, whether there is (or isn’t) a delivery option|\n",
    "|Dine in option|Column describing whether there is (True) or isn’t (missing) a dine-in option|\n",
    "|Takeout option|Column describing whether there is (True) or isn’t (missing) a takeout option|\n"
   ]
  },
  {
   "cell_type": "markdown",
   "id": "05eb3f35-d67f-4b1c-beb0-43f3a8052fe9",
   "metadata": {},
   "source": [
    "### Table of Contents\n",
    "---\n",
    "* [Importing some packages](#Part0) \n",
    "\n",
    "* [Loading the data](#Part1) \n",
    "\n",
    "* [Exploratory data analysis (EDA)](#Part2)\n",
    "\n",
    "    * [Univariate analysis](#Part21)\n",
    "\n",
    "* [Segmentation](#Part3)\n",
    "\n",
    "* [Results](#Part4)"
   ]
  },
  {
   "cell_type": "markdown",
   "id": "291f282e-d467-4694-bfa1-11657fb933ee",
   "metadata": {},
   "source": [
    "### Importing some packages <a name=\"Part0\"></a>"
   ]
  },
  {
   "cell_type": "code",
   "execution_count": 41,
   "id": "0b54de7e-fdf1-405b-b414-6b81b75a7931",
   "metadata": {},
   "outputs": [],
   "source": [
    "import pandas as pd\n",
    "import numpy as np\n",
    "import matplotlib.pyplot as plt\n",
    "import seaborn as sns\n",
    "from sklearn.preprocessing import StandardScaler\n",
    "from sklearn.neighbors import NearestNeighbors\n",
    "from sklearn.impute import KNNImputer\n",
    "from scipy.cluster.hierarchy import linkage, dendrogram, fcluster"
   ]
  },
  {
   "cell_type": "markdown",
   "id": "30dc114b-bd53-4ec7-9bed-e02ec40d363e",
   "metadata": {},
   "source": [
    "### Loading the data <a name=\"Part1\"></a>"
   ]
  },
  {
   "cell_type": "code",
   "execution_count": 42,
   "id": "4d0bf6f0-4502-4429-96a2-387b2588caf2",
   "metadata": {},
   "outputs": [],
   "source": [
    "data = pd.read_csv(\"data/coffee_shops.csv\")\n",
    "data = data.drop_duplicates()"
   ]
  },
  {
   "cell_type": "markdown",
   "id": "df2e3588-6c6b-425f-8cc9-736ecec0fcce",
   "metadata": {},
   "source": [
    "### Exploratory data analysis (EDA) <a name=\"Part2\"></a>"
   ]
  },
  {
   "cell_type": "markdown",
   "id": "8bccf539-f4e7-4f60-bfa1-482295a50b83",
   "metadata": {},
   "source": [
    "\n",
    "#### Univariate analysis <a name=\"Part21\"></a>"
   ]
  },
  {
   "cell_type": "markdown",
   "id": "ffdd9d0e-d26e-4985-9551-9d90ea1cc32a",
   "metadata": {},
   "source": [
    "Let's start from looking through the data."
   ]
  },
  {
   "cell_type": "code",
   "execution_count": 43,
   "id": "0abda851-a4b9-4286-ac57-7f5ce306b500",
   "metadata": {},
   "outputs": [
    {
     "data": {
      "text/html": [
       "<div>\n",
       "<style scoped>\n",
       "    .dataframe tbody tr th:only-of-type {\n",
       "        vertical-align: middle;\n",
       "    }\n",
       "\n",
       "    .dataframe tbody tr th {\n",
       "        vertical-align: top;\n",
       "    }\n",
       "\n",
       "    .dataframe thead th {\n",
       "        text-align: right;\n",
       "    }\n",
       "</style>\n",
       "<table border=\"1\" class=\"dataframe\">\n",
       "  <thead>\n",
       "    <tr style=\"text-align: right;\">\n",
       "      <th></th>\n",
       "      <th>Region</th>\n",
       "      <th>Place name</th>\n",
       "      <th>Place type</th>\n",
       "      <th>Rating</th>\n",
       "      <th>Reviews</th>\n",
       "      <th>Price</th>\n",
       "      <th>Delivery option</th>\n",
       "      <th>Dine in option</th>\n",
       "      <th>Takeout option</th>\n",
       "    </tr>\n",
       "  </thead>\n",
       "  <tbody>\n",
       "    <tr>\n",
       "      <th>0</th>\n",
       "      <td>Mariupol</td>\n",
       "      <td>Dim Kavu</td>\n",
       "      <td>Coffee store</td>\n",
       "      <td>4.6</td>\n",
       "      <td>206.0</td>\n",
       "      <td>NaN</td>\n",
       "      <td>NaN</td>\n",
       "      <td>NaN</td>\n",
       "      <td>NaN</td>\n",
       "    </tr>\n",
       "    <tr>\n",
       "      <th>1</th>\n",
       "      <td>Mariupol</td>\n",
       "      <td>Коферум</td>\n",
       "      <td>Cafe</td>\n",
       "      <td>5.0</td>\n",
       "      <td>24.0</td>\n",
       "      <td>$$</td>\n",
       "      <td>False</td>\n",
       "      <td>NaN</td>\n",
       "      <td>True</td>\n",
       "    </tr>\n",
       "    <tr>\n",
       "      <th>2</th>\n",
       "      <td>Mariupol</td>\n",
       "      <td>Кофейня Світ Чаю</td>\n",
       "      <td>Coffee shop</td>\n",
       "      <td>5.0</td>\n",
       "      <td>11.0</td>\n",
       "      <td>NaN</td>\n",
       "      <td>NaN</td>\n",
       "      <td>NaN</td>\n",
       "      <td>True</td>\n",
       "    </tr>\n",
       "    <tr>\n",
       "      <th>3</th>\n",
       "      <td>Mariupol</td>\n",
       "      <td>Кофейня Starcoff</td>\n",
       "      <td>Coffee shop</td>\n",
       "      <td>4.4</td>\n",
       "      <td>331.0</td>\n",
       "      <td>$$</td>\n",
       "      <td>False</td>\n",
       "      <td>True</td>\n",
       "      <td>True</td>\n",
       "    </tr>\n",
       "    <tr>\n",
       "      <th>4</th>\n",
       "      <td>Mariupol</td>\n",
       "      <td>Кофейня \"Friend Zone\"</td>\n",
       "      <td>Coffee shop</td>\n",
       "      <td>5.0</td>\n",
       "      <td>12.0</td>\n",
       "      <td>NaN</td>\n",
       "      <td>NaN</td>\n",
       "      <td>True</td>\n",
       "      <td>True</td>\n",
       "    </tr>\n",
       "  </tbody>\n",
       "</table>\n",
       "</div>"
      ],
      "text/plain": [
       "     Region             Place name    Place type  Rating  Reviews Price  \\\n",
       "0  Mariupol               Dim Kavu  Coffee store     4.6    206.0   NaN   \n",
       "1  Mariupol                Коферум          Cafe     5.0     24.0    $$   \n",
       "2  Mariupol       Кофейня Світ Чаю   Coffee shop     5.0     11.0   NaN   \n",
       "3  Mariupol       Кофейня Starcoff   Coffee shop     4.4    331.0    $$   \n",
       "4  Mariupol  Кофейня \"Friend Zone\"   Coffee shop     5.0     12.0   NaN   \n",
       "\n",
       "  Delivery option Dine in option Takeout option  \n",
       "0             NaN            NaN            NaN  \n",
       "1           False            NaN           True  \n",
       "2             NaN            NaN           True  \n",
       "3           False           True           True  \n",
       "4             NaN           True           True  "
      ]
     },
     "execution_count": 43,
     "metadata": {},
     "output_type": "execute_result"
    }
   ],
   "source": [
    "data.head()"
   ]
  },
  {
   "cell_type": "markdown",
   "id": "82381284-5310-4ed8-95ee-de675525128d",
   "metadata": {},
   "source": [
    "Now let's check which variables contain missing values and how many."
   ]
  },
  {
   "cell_type": "code",
   "execution_count": 44,
   "id": "160fb2d9-e8b9-4b65-8f18-7c140d0a1d34",
   "metadata": {},
   "outputs": [
    {
     "name": "stdout",
     "output_type": "stream",
     "text": [
      "<class 'pandas.core.frame.DataFrame'>\n",
      "Int64Index: 200 entries, 0 to 199\n",
      "Data columns (total 9 columns):\n",
      " #   Column           Non-Null Count  Dtype  \n",
      "---  ------           --------------  -----  \n",
      " 0   Region           200 non-null    object \n",
      " 1   Place name       200 non-null    object \n",
      " 2   Place type       200 non-null    object \n",
      " 3   Rating           198 non-null    float64\n",
      " 4   Reviews          198 non-null    float64\n",
      " 5   Price            122 non-null    object \n",
      " 6   Delivery option  129 non-null    object \n",
      " 7   Dine in option   140 non-null    object \n",
      " 8   Takeout option   144 non-null    object \n",
      "dtypes: float64(2), object(7)\n",
      "memory usage: 15.6+ KB\n"
     ]
    }
   ],
   "source": [
    "data.info()"
   ]
  },
  {
   "cell_type": "markdown",
   "id": "b0b2647d-048a-41bc-bf4d-20764cd8f288",
   "metadata": {},
   "source": [
    "Let's display some statistics for numeric and categorical features separately."
   ]
  },
  {
   "cell_type": "code",
   "execution_count": 45,
   "id": "af656dc7-fa8c-4f04-a8ea-dda93577ea11",
   "metadata": {},
   "outputs": [
    {
     "data": {
      "text/html": [
       "<div>\n",
       "<style scoped>\n",
       "    .dataframe tbody tr th:only-of-type {\n",
       "        vertical-align: middle;\n",
       "    }\n",
       "\n",
       "    .dataframe tbody tr th {\n",
       "        vertical-align: top;\n",
       "    }\n",
       "\n",
       "    .dataframe thead th {\n",
       "        text-align: right;\n",
       "    }\n",
       "</style>\n",
       "<table border=\"1\" class=\"dataframe\">\n",
       "  <thead>\n",
       "    <tr style=\"text-align: right;\">\n",
       "      <th></th>\n",
       "      <th>Rating</th>\n",
       "      <th>Reviews</th>\n",
       "    </tr>\n",
       "  </thead>\n",
       "  <tbody>\n",
       "    <tr>\n",
       "      <th>count</th>\n",
       "      <td>198.000000</td>\n",
       "      <td>198.000000</td>\n",
       "    </tr>\n",
       "    <tr>\n",
       "      <th>mean</th>\n",
       "      <td>4.663636</td>\n",
       "      <td>622.494949</td>\n",
       "    </tr>\n",
       "    <tr>\n",
       "      <th>std</th>\n",
       "      <td>0.221648</td>\n",
       "      <td>1400.898666</td>\n",
       "    </tr>\n",
       "    <tr>\n",
       "      <th>min</th>\n",
       "      <td>3.900000</td>\n",
       "      <td>3.000000</td>\n",
       "    </tr>\n",
       "    <tr>\n",
       "      <th>25%</th>\n",
       "      <td>4.600000</td>\n",
       "      <td>47.500000</td>\n",
       "    </tr>\n",
       "    <tr>\n",
       "      <th>50%</th>\n",
       "      <td>4.700000</td>\n",
       "      <td>271.500000</td>\n",
       "    </tr>\n",
       "    <tr>\n",
       "      <th>75%</th>\n",
       "      <td>4.800000</td>\n",
       "      <td>786.250000</td>\n",
       "    </tr>\n",
       "    <tr>\n",
       "      <th>max</th>\n",
       "      <td>5.000000</td>\n",
       "      <td>17937.000000</td>\n",
       "    </tr>\n",
       "  </tbody>\n",
       "</table>\n",
       "</div>"
      ],
      "text/plain": [
       "           Rating       Reviews\n",
       "count  198.000000    198.000000\n",
       "mean     4.663636    622.494949\n",
       "std      0.221648   1400.898666\n",
       "min      3.900000      3.000000\n",
       "25%      4.600000     47.500000\n",
       "50%      4.700000    271.500000\n",
       "75%      4.800000    786.250000\n",
       "max      5.000000  17937.000000"
      ]
     },
     "execution_count": 45,
     "metadata": {},
     "output_type": "execute_result"
    }
   ],
   "source": [
    "data.describe()"
   ]
  },
  {
   "cell_type": "code",
   "execution_count": 46,
   "id": "44faf21f-69b9-484d-a3b6-3b325f0f468e",
   "metadata": {},
   "outputs": [
    {
     "data": {
      "text/html": [
       "<div>\n",
       "<style scoped>\n",
       "    .dataframe tbody tr th:only-of-type {\n",
       "        vertical-align: middle;\n",
       "    }\n",
       "\n",
       "    .dataframe tbody tr th {\n",
       "        vertical-align: top;\n",
       "    }\n",
       "\n",
       "    .dataframe thead th {\n",
       "        text-align: right;\n",
       "    }\n",
       "</style>\n",
       "<table border=\"1\" class=\"dataframe\">\n",
       "  <thead>\n",
       "    <tr style=\"text-align: right;\">\n",
       "      <th></th>\n",
       "      <th>Region</th>\n",
       "      <th>Place name</th>\n",
       "      <th>Place type</th>\n",
       "      <th>Price</th>\n",
       "      <th>Delivery option</th>\n",
       "      <th>Dine in option</th>\n",
       "      <th>Takeout option</th>\n",
       "    </tr>\n",
       "  </thead>\n",
       "  <tbody>\n",
       "    <tr>\n",
       "      <th>count</th>\n",
       "      <td>200</td>\n",
       "      <td>200</td>\n",
       "      <td>200</td>\n",
       "      <td>122</td>\n",
       "      <td>129</td>\n",
       "      <td>140</td>\n",
       "      <td>144</td>\n",
       "    </tr>\n",
       "    <tr>\n",
       "      <th>unique</th>\n",
       "      <td>10</td>\n",
       "      <td>187</td>\n",
       "      <td>14</td>\n",
       "      <td>3</td>\n",
       "      <td>2</td>\n",
       "      <td>1</td>\n",
       "      <td>1</td>\n",
       "    </tr>\n",
       "    <tr>\n",
       "      <th>top</th>\n",
       "      <td>Kherson</td>\n",
       "      <td>Dim Kavy</td>\n",
       "      <td>Coffee shop</td>\n",
       "      <td>$$</td>\n",
       "      <td>False</td>\n",
       "      <td>True</td>\n",
       "      <td>True</td>\n",
       "    </tr>\n",
       "    <tr>\n",
       "      <th>freq</th>\n",
       "      <td>20</td>\n",
       "      <td>4</td>\n",
       "      <td>97</td>\n",
       "      <td>116</td>\n",
       "      <td>94</td>\n",
       "      <td>140</td>\n",
       "      <td>144</td>\n",
       "    </tr>\n",
       "  </tbody>\n",
       "</table>\n",
       "</div>"
      ],
      "text/plain": [
       "         Region Place name   Place type Price Delivery option Dine in option  \\\n",
       "count       200        200          200   122             129            140   \n",
       "unique       10        187           14     3               2              1   \n",
       "top     Kherson   Dim Kavy  Coffee shop    $$           False           True   \n",
       "freq         20          4           97   116              94            140   \n",
       "\n",
       "       Takeout option  \n",
       "count             144  \n",
       "unique              1  \n",
       "top              True  \n",
       "freq              144  "
      ]
     },
     "execution_count": 46,
     "metadata": {},
     "output_type": "execute_result"
    }
   ],
   "source": [
    "data.describe(include=['object'])"
   ]
  },
  {
   "cell_type": "markdown",
   "id": "128e3120-570a-4735-aa95-619f6fe258ad",
   "metadata": {},
   "source": [
    "Let's display unique values of categorical variables (let's skip \"Place name\")."
   ]
  },
  {
   "cell_type": "code",
   "execution_count": 47,
   "id": "588a1c1a-f165-4808-bad9-a4b473fd6eee",
   "metadata": {},
   "outputs": [
    {
     "name": "stdout",
     "output_type": "stream",
     "text": [
      "Unique elements of Region are ['Mariupol', 'Poltava', 'Kherson', 'Zaporozhye', 'Odessa', 'Lviv', 'Khrivoy Rog', 'Kiev', 'Kharkiv', 'Dnipro']\n",
      "Unique elements of Place type are ['Coffee store', 'Cafe', 'Coffee shop', 'Espresso bar', 'Chocolate shop', 'European restaurant', 'Internet shop', 'Appliance repair service', 'Store', 'Coffee stand', 'Coffee roasters', 'Pastry shop', 'E-commerce service', 'Restaurant']\n",
      "Unique elements of Price are [nan, '$$', '$', '$$$']\n",
      "Unique elements of Delivery option are [nan, False, True]\n",
      "Unique elements of Dine in option are [nan, True]\n",
      "Unique elements of Takeout option are [nan, True]\n"
     ]
    }
   ],
   "source": [
    "for col in [i for i in data.columns \n",
    "            if i not in ['Place name', 'Rating', 'Reviews']]:\n",
    "    print(f'Unique elements of {col} are {list(data[col].unique())}')"
   ]
  },
  {
   "cell_type": "markdown",
   "id": "9fe7e267-cd82-48e8-84ab-ddc7363de74e",
   "metadata": {},
   "source": [
    "Let's replace \"Coffee store\" and \"Store\" categories with \"Coffee shop\" in \"Place type\" as they all are the same."
   ]
  },
  {
   "cell_type": "code",
   "execution_count": 48,
   "id": "d98758cf-09eb-4a67-83e8-79d20b3026ae",
   "metadata": {},
   "outputs": [],
   "source": [
    "data['Place type'] = data['Place type'].replace(['Coffee store', 'Store'], \n",
    "                                                ['Coffee shop', 'Coffee shop'])"
   ]
  },
  {
   "cell_type": "markdown",
   "id": "ccb61a95-aba4-4ee2-8e9d-9a28c9099a14",
   "metadata": {},
   "source": [
    "Next let's deal with missing values in \"Dine option\" and \"Takeout option\". It's very straightforward as the variables' description suggests."
   ]
  },
  {
   "cell_type": "code",
   "execution_count": 49,
   "id": "a688779c-c6bc-4ac3-8449-a3ee832d2278",
   "metadata": {},
   "outputs": [],
   "source": [
    "data['Dine in option'].fillna(False, inplace=True)\n",
    "dio_map_dict = {True: 1, False: 0}\n",
    "data['Dine in option'] = data['Dine in option'].map(dio_map_dict)\n",
    "\n",
    "data['Takeout option'].fillna(False, inplace=True)\n",
    "to_map_dict = {True: 1, False: 0}\n",
    "data['Takeout option'] = data['Takeout option'].map(to_map_dict)"
   ]
  },
  {
   "cell_type": "markdown",
   "id": "c1428fb8-9b8f-4e41-8f54-823e17e88a63",
   "metadata": {},
   "source": [
    "Let's fill in  missing values in \"Reviews\"."
   ]
  },
  {
   "cell_type": "code",
   "execution_count": 50,
   "id": "8d32f692-1274-48c8-8306-ad67f9d08f5c",
   "metadata": {},
   "outputs": [
    {
     "data": {
      "text/html": [
       "<div>\n",
       "<style scoped>\n",
       "    .dataframe tbody tr th:only-of-type {\n",
       "        vertical-align: middle;\n",
       "    }\n",
       "\n",
       "    .dataframe tbody tr th {\n",
       "        vertical-align: top;\n",
       "    }\n",
       "\n",
       "    .dataframe thead th {\n",
       "        text-align: right;\n",
       "    }\n",
       "</style>\n",
       "<table border=\"1\" class=\"dataframe\">\n",
       "  <thead>\n",
       "    <tr style=\"text-align: right;\">\n",
       "      <th></th>\n",
       "      <th>Region</th>\n",
       "      <th>Place name</th>\n",
       "      <th>Place type</th>\n",
       "      <th>Rating</th>\n",
       "      <th>Reviews</th>\n",
       "      <th>Price</th>\n",
       "      <th>Delivery option</th>\n",
       "      <th>Dine in option</th>\n",
       "      <th>Takeout option</th>\n",
       "    </tr>\n",
       "  </thead>\n",
       "  <tbody>\n",
       "    <tr>\n",
       "      <th>0</th>\n",
       "      <td>Mariupol</td>\n",
       "      <td>Dim Kavu</td>\n",
       "      <td>Coffee shop</td>\n",
       "      <td>4.6</td>\n",
       "      <td>206.0</td>\n",
       "      <td>NaN</td>\n",
       "      <td>NaN</td>\n",
       "      <td>0</td>\n",
       "      <td>0</td>\n",
       "    </tr>\n",
       "    <tr>\n",
       "      <th>1</th>\n",
       "      <td>Mariupol</td>\n",
       "      <td>Коферум</td>\n",
       "      <td>Cafe</td>\n",
       "      <td>5.0</td>\n",
       "      <td>24.0</td>\n",
       "      <td>$$</td>\n",
       "      <td>False</td>\n",
       "      <td>0</td>\n",
       "      <td>1</td>\n",
       "    </tr>\n",
       "    <tr>\n",
       "      <th>2</th>\n",
       "      <td>Mariupol</td>\n",
       "      <td>Кофейня Світ Чаю</td>\n",
       "      <td>Coffee shop</td>\n",
       "      <td>5.0</td>\n",
       "      <td>11.0</td>\n",
       "      <td>NaN</td>\n",
       "      <td>NaN</td>\n",
       "      <td>0</td>\n",
       "      <td>1</td>\n",
       "    </tr>\n",
       "    <tr>\n",
       "      <th>3</th>\n",
       "      <td>Mariupol</td>\n",
       "      <td>Кофейня Starcoff</td>\n",
       "      <td>Coffee shop</td>\n",
       "      <td>4.4</td>\n",
       "      <td>331.0</td>\n",
       "      <td>$$</td>\n",
       "      <td>False</td>\n",
       "      <td>1</td>\n",
       "      <td>1</td>\n",
       "    </tr>\n",
       "    <tr>\n",
       "      <th>4</th>\n",
       "      <td>Mariupol</td>\n",
       "      <td>Кофейня \"Friend Zone\"</td>\n",
       "      <td>Coffee shop</td>\n",
       "      <td>5.0</td>\n",
       "      <td>12.0</td>\n",
       "      <td>NaN</td>\n",
       "      <td>NaN</td>\n",
       "      <td>1</td>\n",
       "      <td>1</td>\n",
       "    </tr>\n",
       "  </tbody>\n",
       "</table>\n",
       "</div>"
      ],
      "text/plain": [
       "     Region             Place name   Place type  Rating  Reviews Price  \\\n",
       "0  Mariupol               Dim Kavu  Coffee shop     4.6    206.0   NaN   \n",
       "1  Mariupol                Коферум         Cafe     5.0     24.0    $$   \n",
       "2  Mariupol       Кофейня Світ Чаю  Coffee shop     5.0     11.0   NaN   \n",
       "3  Mariupol       Кофейня Starcoff  Coffee shop     4.4    331.0    $$   \n",
       "4  Mariupol  Кофейня \"Friend Zone\"  Coffee shop     5.0     12.0   NaN   \n",
       "\n",
       "  Delivery option  Dine in option  Takeout option  \n",
       "0             NaN               0               0  \n",
       "1           False               0               1  \n",
       "2             NaN               0               1  \n",
       "3           False               1               1  \n",
       "4             NaN               1               1  "
      ]
     },
     "execution_count": 50,
     "metadata": {},
     "output_type": "execute_result"
    }
   ],
   "source": [
    "temp_data = pd.get_dummies(data[['Region', 'Place type']], drop_first=True)\n",
    "temp_data = pd.concat([temp_data, data[['Dine in option', 'Takeout option', 'Reviews']]], axis=1)\n",
    "\n",
    "temp_scaler = StandardScaler()\n",
    "temp_data_scaled = temp_scaler.fit_transform(temp_data)\n",
    "\n",
    "temp_imputer = KNNImputer(n_neighbors=1)\n",
    "data['Reviews'] = temp_scaler.inverse_transform(temp_imputer.fit_transform(temp_data_scaled))[:, -1]\n",
    "data.head()"
   ]
  },
  {
   "cell_type": "markdown",
   "id": "ddca7303-e341-460f-b035-a8db2b799f32",
   "metadata": {},
   "source": [
    "Let's fill in missing values in \"Rating\"."
   ]
  },
  {
   "cell_type": "code",
   "execution_count": 51,
   "id": "40c91cae-1352-4689-8c47-f9ded23867f6",
   "metadata": {},
   "outputs": [
    {
     "data": {
      "text/html": [
       "<div>\n",
       "<style scoped>\n",
       "    .dataframe tbody tr th:only-of-type {\n",
       "        vertical-align: middle;\n",
       "    }\n",
       "\n",
       "    .dataframe tbody tr th {\n",
       "        vertical-align: top;\n",
       "    }\n",
       "\n",
       "    .dataframe thead th {\n",
       "        text-align: right;\n",
       "    }\n",
       "</style>\n",
       "<table border=\"1\" class=\"dataframe\">\n",
       "  <thead>\n",
       "    <tr style=\"text-align: right;\">\n",
       "      <th></th>\n",
       "      <th>Region</th>\n",
       "      <th>Place name</th>\n",
       "      <th>Place type</th>\n",
       "      <th>Rating</th>\n",
       "      <th>Reviews</th>\n",
       "      <th>Price</th>\n",
       "      <th>Delivery option</th>\n",
       "      <th>Dine in option</th>\n",
       "      <th>Takeout option</th>\n",
       "    </tr>\n",
       "  </thead>\n",
       "  <tbody>\n",
       "    <tr>\n",
       "      <th>0</th>\n",
       "      <td>Mariupol</td>\n",
       "      <td>Dim Kavu</td>\n",
       "      <td>Coffee shop</td>\n",
       "      <td>4.6</td>\n",
       "      <td>206.0</td>\n",
       "      <td>NaN</td>\n",
       "      <td>NaN</td>\n",
       "      <td>0</td>\n",
       "      <td>0</td>\n",
       "    </tr>\n",
       "    <tr>\n",
       "      <th>1</th>\n",
       "      <td>Mariupol</td>\n",
       "      <td>Коферум</td>\n",
       "      <td>Cafe</td>\n",
       "      <td>5.0</td>\n",
       "      <td>24.0</td>\n",
       "      <td>$$</td>\n",
       "      <td>False</td>\n",
       "      <td>0</td>\n",
       "      <td>1</td>\n",
       "    </tr>\n",
       "    <tr>\n",
       "      <th>2</th>\n",
       "      <td>Mariupol</td>\n",
       "      <td>Кофейня Світ Чаю</td>\n",
       "      <td>Coffee shop</td>\n",
       "      <td>5.0</td>\n",
       "      <td>11.0</td>\n",
       "      <td>NaN</td>\n",
       "      <td>NaN</td>\n",
       "      <td>0</td>\n",
       "      <td>1</td>\n",
       "    </tr>\n",
       "    <tr>\n",
       "      <th>3</th>\n",
       "      <td>Mariupol</td>\n",
       "      <td>Кофейня Starcoff</td>\n",
       "      <td>Coffee shop</td>\n",
       "      <td>4.4</td>\n",
       "      <td>331.0</td>\n",
       "      <td>$$</td>\n",
       "      <td>False</td>\n",
       "      <td>1</td>\n",
       "      <td>1</td>\n",
       "    </tr>\n",
       "    <tr>\n",
       "      <th>4</th>\n",
       "      <td>Mariupol</td>\n",
       "      <td>Кофейня \"Friend Zone\"</td>\n",
       "      <td>Coffee shop</td>\n",
       "      <td>5.0</td>\n",
       "      <td>12.0</td>\n",
       "      <td>NaN</td>\n",
       "      <td>NaN</td>\n",
       "      <td>1</td>\n",
       "      <td>1</td>\n",
       "    </tr>\n",
       "  </tbody>\n",
       "</table>\n",
       "</div>"
      ],
      "text/plain": [
       "     Region             Place name   Place type  Rating  Reviews Price  \\\n",
       "0  Mariupol               Dim Kavu  Coffee shop     4.6    206.0   NaN   \n",
       "1  Mariupol                Коферум         Cafe     5.0     24.0    $$   \n",
       "2  Mariupol       Кофейня Світ Чаю  Coffee shop     5.0     11.0   NaN   \n",
       "3  Mariupol       Кофейня Starcoff  Coffee shop     4.4    331.0    $$   \n",
       "4  Mariupol  Кофейня \"Friend Zone\"  Coffee shop     5.0     12.0   NaN   \n",
       "\n",
       "  Delivery option  Dine in option  Takeout option  \n",
       "0             NaN               0               0  \n",
       "1           False               0               1  \n",
       "2             NaN               0               1  \n",
       "3           False               1               1  \n",
       "4             NaN               1               1  "
      ]
     },
     "execution_count": 51,
     "metadata": {},
     "output_type": "execute_result"
    }
   ],
   "source": [
    "temp_data = pd.get_dummies(data[['Region', 'Place type']], drop_first=True)\n",
    "temp_data = pd.concat([temp_data, \n",
    "                       data[['Reviews', 'Dine in option', \n",
    "                             'Takeout option', 'Rating']]], \n",
    "                      axis=1)\n",
    "\n",
    "temp_scaler = StandardScaler()\n",
    "temp_data_scaled = temp_scaler.fit_transform(temp_data)\n",
    "\n",
    "temp_imputer = KNNImputer(n_neighbors=1)\n",
    "data['Rating'] = temp_scaler.inverse_transform(temp_imputer.fit_transform(temp_data_scaled))[:, -1]\n",
    "data.head()"
   ]
  },
  {
   "cell_type": "markdown",
   "id": "f2e9e2b9-fad3-4254-98bc-6cef9955b5fd",
   "metadata": {},
   "source": [
    "Now let's address the missing values in \"Price\"."
   ]
  },
  {
   "cell_type": "code",
   "execution_count": 52,
   "id": "f665ec9f-6749-4110-97f5-c0ba38ee9fe4",
   "metadata": {},
   "outputs": [
    {
     "data": {
      "text/html": [
       "<div>\n",
       "<style scoped>\n",
       "    .dataframe tbody tr th:only-of-type {\n",
       "        vertical-align: middle;\n",
       "    }\n",
       "\n",
       "    .dataframe tbody tr th {\n",
       "        vertical-align: top;\n",
       "    }\n",
       "\n",
       "    .dataframe thead th {\n",
       "        text-align: right;\n",
       "    }\n",
       "</style>\n",
       "<table border=\"1\" class=\"dataframe\">\n",
       "  <thead>\n",
       "    <tr style=\"text-align: right;\">\n",
       "      <th></th>\n",
       "      <th>Region</th>\n",
       "      <th>Place name</th>\n",
       "      <th>Place type</th>\n",
       "      <th>Rating</th>\n",
       "      <th>Reviews</th>\n",
       "      <th>Price</th>\n",
       "      <th>Delivery option</th>\n",
       "      <th>Dine in option</th>\n",
       "      <th>Takeout option</th>\n",
       "    </tr>\n",
       "  </thead>\n",
       "  <tbody>\n",
       "    <tr>\n",
       "      <th>0</th>\n",
       "      <td>Mariupol</td>\n",
       "      <td>Dim Kavu</td>\n",
       "      <td>Coffee shop</td>\n",
       "      <td>4.6</td>\n",
       "      <td>206.0</td>\n",
       "      <td>2.0</td>\n",
       "      <td>NaN</td>\n",
       "      <td>0</td>\n",
       "      <td>0</td>\n",
       "    </tr>\n",
       "    <tr>\n",
       "      <th>1</th>\n",
       "      <td>Mariupol</td>\n",
       "      <td>Коферум</td>\n",
       "      <td>Cafe</td>\n",
       "      <td>5.0</td>\n",
       "      <td>24.0</td>\n",
       "      <td>2.0</td>\n",
       "      <td>False</td>\n",
       "      <td>0</td>\n",
       "      <td>1</td>\n",
       "    </tr>\n",
       "    <tr>\n",
       "      <th>2</th>\n",
       "      <td>Mariupol</td>\n",
       "      <td>Кофейня Світ Чаю</td>\n",
       "      <td>Coffee shop</td>\n",
       "      <td>5.0</td>\n",
       "      <td>11.0</td>\n",
       "      <td>2.0</td>\n",
       "      <td>NaN</td>\n",
       "      <td>0</td>\n",
       "      <td>1</td>\n",
       "    </tr>\n",
       "    <tr>\n",
       "      <th>3</th>\n",
       "      <td>Mariupol</td>\n",
       "      <td>Кофейня Starcoff</td>\n",
       "      <td>Coffee shop</td>\n",
       "      <td>4.4</td>\n",
       "      <td>331.0</td>\n",
       "      <td>2.0</td>\n",
       "      <td>False</td>\n",
       "      <td>1</td>\n",
       "      <td>1</td>\n",
       "    </tr>\n",
       "    <tr>\n",
       "      <th>4</th>\n",
       "      <td>Mariupol</td>\n",
       "      <td>Кофейня \"Friend Zone\"</td>\n",
       "      <td>Coffee shop</td>\n",
       "      <td>5.0</td>\n",
       "      <td>12.0</td>\n",
       "      <td>2.0</td>\n",
       "      <td>NaN</td>\n",
       "      <td>1</td>\n",
       "      <td>1</td>\n",
       "    </tr>\n",
       "  </tbody>\n",
       "</table>\n",
       "</div>"
      ],
      "text/plain": [
       "     Region             Place name   Place type  Rating  Reviews  Price  \\\n",
       "0  Mariupol               Dim Kavu  Coffee shop     4.6    206.0    2.0   \n",
       "1  Mariupol                Коферум         Cafe     5.0     24.0    2.0   \n",
       "2  Mariupol       Кофейня Світ Чаю  Coffee shop     5.0     11.0    2.0   \n",
       "3  Mariupol       Кофейня Starcoff  Coffee shop     4.4    331.0    2.0   \n",
       "4  Mariupol  Кофейня \"Friend Zone\"  Coffee shop     5.0     12.0    2.0   \n",
       "\n",
       "  Delivery option  Dine in option  Takeout option  \n",
       "0             NaN               0               0  \n",
       "1           False               0               1  \n",
       "2             NaN               0               1  \n",
       "3           False               1               1  \n",
       "4             NaN               1               1  "
      ]
     },
     "execution_count": 52,
     "metadata": {},
     "output_type": "execute_result"
    }
   ],
   "source": [
    "price_map_dict = {'$': 1, '$$': 2, '$$$': 3}\n",
    "data['Price'] = data['Price'].map(price_map_dict)\n",
    "\n",
    "temp_data = pd.get_dummies(data[['Region', 'Place type']], drop_first=True)\n",
    "temp_data = pd.concat([temp_data, \n",
    "                       data[['Reviews', 'Rating', \n",
    "                             'Dine in option', 'Takeout option',\n",
    "                             'Price']]], \n",
    "                      axis=1)\n",
    "\n",
    "temp_scaler = StandardScaler()\n",
    "temp_data_scaled = temp_scaler.fit_transform(temp_data)\n",
    "\n",
    "temp_imputer = KNNImputer(n_neighbors=1)\n",
    "data['Price'] = temp_scaler.inverse_transform(temp_imputer.fit_transform(temp_data_scaled))[:, -1]\n",
    "data.head()"
   ]
  },
  {
   "cell_type": "markdown",
   "id": "1dc0570f-40c9-466d-ab7b-143f3950c328",
   "metadata": {},
   "source": [
    "Finally let's deal with missing values in the \"Delivery option\" variable."
   ]
  },
  {
   "cell_type": "code",
   "execution_count": 53,
   "id": "42553bb8-5b40-42b4-8e12-39950fd3e8d2",
   "metadata": {},
   "outputs": [
    {
     "data": {
      "text/html": [
       "<div>\n",
       "<style scoped>\n",
       "    .dataframe tbody tr th:only-of-type {\n",
       "        vertical-align: middle;\n",
       "    }\n",
       "\n",
       "    .dataframe tbody tr th {\n",
       "        vertical-align: top;\n",
       "    }\n",
       "\n",
       "    .dataframe thead th {\n",
       "        text-align: right;\n",
       "    }\n",
       "</style>\n",
       "<table border=\"1\" class=\"dataframe\">\n",
       "  <thead>\n",
       "    <tr style=\"text-align: right;\">\n",
       "      <th></th>\n",
       "      <th>Region</th>\n",
       "      <th>Place name</th>\n",
       "      <th>Place type</th>\n",
       "      <th>Rating</th>\n",
       "      <th>Reviews</th>\n",
       "      <th>Price</th>\n",
       "      <th>Delivery option</th>\n",
       "      <th>Dine in option</th>\n",
       "      <th>Takeout option</th>\n",
       "    </tr>\n",
       "  </thead>\n",
       "  <tbody>\n",
       "    <tr>\n",
       "      <th>0</th>\n",
       "      <td>Mariupol</td>\n",
       "      <td>Dim Kavu</td>\n",
       "      <td>Coffee shop</td>\n",
       "      <td>4.6</td>\n",
       "      <td>206.0</td>\n",
       "      <td>2.0</td>\n",
       "      <td>0.0</td>\n",
       "      <td>0</td>\n",
       "      <td>0</td>\n",
       "    </tr>\n",
       "    <tr>\n",
       "      <th>1</th>\n",
       "      <td>Mariupol</td>\n",
       "      <td>Коферум</td>\n",
       "      <td>Cafe</td>\n",
       "      <td>5.0</td>\n",
       "      <td>24.0</td>\n",
       "      <td>2.0</td>\n",
       "      <td>0.0</td>\n",
       "      <td>0</td>\n",
       "      <td>1</td>\n",
       "    </tr>\n",
       "    <tr>\n",
       "      <th>2</th>\n",
       "      <td>Mariupol</td>\n",
       "      <td>Кофейня Світ Чаю</td>\n",
       "      <td>Coffee shop</td>\n",
       "      <td>5.0</td>\n",
       "      <td>11.0</td>\n",
       "      <td>2.0</td>\n",
       "      <td>0.0</td>\n",
       "      <td>0</td>\n",
       "      <td>1</td>\n",
       "    </tr>\n",
       "    <tr>\n",
       "      <th>3</th>\n",
       "      <td>Mariupol</td>\n",
       "      <td>Кофейня Starcoff</td>\n",
       "      <td>Coffee shop</td>\n",
       "      <td>4.4</td>\n",
       "      <td>331.0</td>\n",
       "      <td>2.0</td>\n",
       "      <td>0.0</td>\n",
       "      <td>1</td>\n",
       "      <td>1</td>\n",
       "    </tr>\n",
       "    <tr>\n",
       "      <th>4</th>\n",
       "      <td>Mariupol</td>\n",
       "      <td>Кофейня \"Friend Zone\"</td>\n",
       "      <td>Coffee shop</td>\n",
       "      <td>5.0</td>\n",
       "      <td>12.0</td>\n",
       "      <td>2.0</td>\n",
       "      <td>0.0</td>\n",
       "      <td>1</td>\n",
       "      <td>1</td>\n",
       "    </tr>\n",
       "  </tbody>\n",
       "</table>\n",
       "</div>"
      ],
      "text/plain": [
       "     Region             Place name   Place type  Rating  Reviews  Price  \\\n",
       "0  Mariupol               Dim Kavu  Coffee shop     4.6    206.0    2.0   \n",
       "1  Mariupol                Коферум         Cafe     5.0     24.0    2.0   \n",
       "2  Mariupol       Кофейня Світ Чаю  Coffee shop     5.0     11.0    2.0   \n",
       "3  Mariupol       Кофейня Starcoff  Coffee shop     4.4    331.0    2.0   \n",
       "4  Mariupol  Кофейня \"Friend Zone\"  Coffee shop     5.0     12.0    2.0   \n",
       "\n",
       "   Delivery option  Dine in option  Takeout option  \n",
       "0              0.0               0               0  \n",
       "1              0.0               0               1  \n",
       "2              0.0               0               1  \n",
       "3              0.0               1               1  \n",
       "4              0.0               1               1  "
      ]
     },
     "execution_count": 53,
     "metadata": {},
     "output_type": "execute_result"
    }
   ],
   "source": [
    "do_map_dict = {True: 1, False: 0}\n",
    "data['Delivery option'] = data['Delivery option'].map(do_map_dict)\n",
    "\n",
    "temp_data = pd.get_dummies(data[['Region', 'Place type']], drop_first=True)\n",
    "temp_data = pd.concat([temp_data, \n",
    "                       data[['Reviews', 'Rating', 'Price', \n",
    "                             'Dine in option', 'Takeout option',\n",
    "                             'Delivery option']]], \n",
    "                      axis=1)\n",
    "\n",
    "temp_scaler = StandardScaler()\n",
    "temp_data_scaled = temp_scaler.fit_transform(temp_data)\n",
    "\n",
    "temp_imputer = KNNImputer(n_neighbors=1)\n",
    "data['Delivery option'] = temp_scaler.\\\n",
    "                          inverse_transform(temp_imputer.\\\n",
    "                                            fit_transform(temp_data_scaled))[:, -1]\n",
    "data.head()"
   ]
  },
  {
   "cell_type": "markdown",
   "id": "eb5b91ff-2f40-4a28-b7a0-e150377da7b9",
   "metadata": {},
   "source": [
    "Let's check the variables for presence of missing values once more."
   ]
  },
  {
   "cell_type": "code",
   "execution_count": 54,
   "id": "3cc86d8f-3d2d-4809-96f1-c7252fa0e945",
   "metadata": {},
   "outputs": [
    {
     "name": "stdout",
     "output_type": "stream",
     "text": [
      "<class 'pandas.core.frame.DataFrame'>\n",
      "Int64Index: 200 entries, 0 to 199\n",
      "Data columns (total 9 columns):\n",
      " #   Column           Non-Null Count  Dtype  \n",
      "---  ------           --------------  -----  \n",
      " 0   Region           200 non-null    object \n",
      " 1   Place name       200 non-null    object \n",
      " 2   Place type       200 non-null    object \n",
      " 3   Rating           200 non-null    float64\n",
      " 4   Reviews          200 non-null    float64\n",
      " 5   Price            200 non-null    float64\n",
      " 6   Delivery option  200 non-null    float64\n",
      " 7   Dine in option   200 non-null    int64  \n",
      " 8   Takeout option   200 non-null    int64  \n",
      "dtypes: float64(4), int64(2), object(3)\n",
      "memory usage: 15.6+ KB\n"
     ]
    }
   ],
   "source": [
    "data.info()"
   ]
  },
  {
   "cell_type": "markdown",
   "id": "e676cd04-455e-429b-8f2c-f024a907e333",
   "metadata": {},
   "source": [
    "Let's see coffee shops' distribution by region."
   ]
  },
  {
   "cell_type": "code",
   "execution_count": 55,
   "id": "6db9f6ef-7b68-4b8f-b93d-23fea67fd8bf",
   "metadata": {},
   "outputs": [
    {
     "data": {
      "image/png": "[encoded data removed]",
      "text/plain": [
       "<Figure size 432x288 with 1 Axes>"
      ]
     },
     "metadata": {
      "needs_background": "light"
     },
     "output_type": "display_data"
    }
   ],
   "source": [
    "sns.countplot(x='Region', data=data)\n",
    "plt.xticks(rotation=30)\n",
    "plt.ylabel('N_coffee shops')\n",
    "plt.show()"
   ]
  },
  {
   "cell_type": "markdown",
   "id": "f8d0a02b-8f1c-4bcd-95d6-f4abf59b60c6",
   "metadata": {},
   "source": [
    "Let's plot coffee shop distribution by regions."
   ]
  },
  {
   "cell_type": "code",
   "execution_count": 56,
   "id": "1c139ef6-852d-471a-a271-9cfd1db73e4b",
   "metadata": {},
   "outputs": [
    {
     "data": {
      "image/png": "[encoded data removed]",
      "text/plain": [
       "<Figure size 864x864 with 10 Axes>"
      ]
     },
     "metadata": {
      "needs_background": "light"
     },
     "output_type": "display_data"
    }
   ],
   "source": [
    "n_subplots = 0\n",
    "fig = plt.figure(figsize=(12, 12))\n",
    "for i in data['Region'].unique():\n",
    "    n_subplots += 1\n",
    "    plt.subplot(4, 3, n_subplots)\n",
    "    temp_map_dict = {dio_map_dict[i]: i for i in dio_map_dict}\n",
    "    temp_df = data[data['Region']==i]\n",
    "    sns.countplot(x='Place type', data=temp_df, order=[v for v in data['Place type'].unique()])\n",
    "    plt.xticks(rotation=90)\n",
    "    plt.title(i)\n",
    "plt.tight_layout()"
   ]
  },
  {
   "cell_type": "markdown",
   "id": "13ba5de1-df36-4527-ae4e-8fa152cda1e0",
   "metadata": {},
   "source": [
    "Now let's plot \"Rating\" by region."
   ]
  },
  {
   "cell_type": "code",
   "execution_count": 57,
   "id": "f54531bc-6fe0-43d8-a93e-ecfb7938b96b",
   "metadata": {},
   "outputs": [
    {
     "data": {
      "image/png": "[encoded data removed]",
      "text/plain": [
       "<Figure size 432x288 with 1 Axes>"
      ]
     },
     "metadata": {
      "needs_background": "light"
     },
     "output_type": "display_data"
    }
   ],
   "source": [
    "sns.boxplot(x='Region', y='Rating', data=data)\n",
    "plt.xticks(rotation=30)\n",
    "plt.show()"
   ]
  },
  {
   "cell_type": "markdown",
   "id": "2a761660-175c-434b-9112-514e0a157d7f",
   "metadata": {},
   "source": [
    "Next we'll plot \"Reviews\" by region."
   ]
  },
  {
   "cell_type": "code",
   "execution_count": 58,
   "id": "d59a505f-b358-4130-a652-acc27cec0519",
   "metadata": {},
   "outputs": [
    {
     "data": {
      "image/png": "[encoded data removed]",
      "text/plain": [
       "<Figure size 432x288 with 1 Axes>"
      ]
     },
     "metadata": {
      "needs_background": "light"
     },
     "output_type": "display_data"
    }
   ],
   "source": [
    "sns.boxplot(x='Region', y='Reviews', data=data)\n",
    "plt.xticks(rotation=30)\n",
    "plt.show()"
   ]
  },
  {
   "cell_type": "markdown",
   "id": "f9cc2979-f7d6-4b62-932c-5677f74b6aec",
   "metadata": {},
   "source": [
    "Let's plot \"Reviews\" by region again neglecting the outlier in the above plot."
   ]
  },
  {
   "cell_type": "code",
   "execution_count": 59,
   "id": "2fefad9e-60fe-429a-a41a-65ca85c88e99",
   "metadata": {},
   "outputs": [
    {
     "data": {
      "image/png": "[encoded data removed]",
      "text/plain": [
       "<Figure size 432x288 with 1 Axes>"
      ]
     },
     "metadata": {
      "needs_background": "light"
     },
     "output_type": "display_data"
    }
   ],
   "source": [
    "sns.boxplot(x='Region', y='Reviews', data=data[data['Reviews']<15000])\n",
    "plt.xticks(rotation=30)\n",
    "plt.show()"
   ]
  },
  {
   "cell_type": "markdown",
   "id": "92c5680c-95a4-4d9c-a2cf-5cb5bd62373a",
   "metadata": {},
   "source": [
    "Let's visualize \"Delivery option\" by region."
   ]
  },
  {
   "cell_type": "code",
   "execution_count": 60,
   "id": "cdfeef6c-12a8-4110-af79-abda7464d625",
   "metadata": {},
   "outputs": [
    {
     "data": {
      "image/png": "[encoded data removed]",
      "text/plain": [
       "<Figure size 720x720 with 10 Axes>"
      ]
     },
     "metadata": {
      "needs_background": "light"
     },
     "output_type": "display_data"
    }
   ],
   "source": [
    "n_subplots = 0\n",
    "fig = plt.figure(figsize=(10, 10))\n",
    "for i in data['Region'].unique():\n",
    "    n_subplots += 1\n",
    "    plt.subplot(4, 3, n_subplots)\n",
    "    temp_map_dict = {do_map_dict[i]: i for i in do_map_dict}\n",
    "    temp_df = data[data['Region']==i]\n",
    "    temp_df['Delivery option'] = temp_df['Delivery option'].map(temp_map_dict)\n",
    "    sns.countplot(x='Delivery option', data=temp_df, order=[True, False])\n",
    "    plt.title(i)\n",
    "plt.tight_layout()"
   ]
  },
  {
   "cell_type": "markdown",
   "id": "21f49328-568f-4422-bab1-80f0db2b3af3",
   "metadata": {},
   "source": [
    "Now we'll show the distribution of \"Dine in option\" by region."
   ]
  },
  {
   "cell_type": "code",
   "execution_count": 61,
   "id": "56e5293d-d833-48ec-bf71-8bc56bd1a1d5",
   "metadata": {},
   "outputs": [
    {
     "data": {
      "image/png": "[encoded data removed]",
      "text/plain": [
       "<Figure size 720x720 with 10 Axes>"
      ]
     },
     "metadata": {
      "needs_background": "light"
     },
     "output_type": "display_data"
    }
   ],
   "source": [
    "n_subplots = 0\n",
    "fig = plt.figure(figsize=(10, 10))\n",
    "for i in data['Region'].unique():\n",
    "    n_subplots += 1\n",
    "    plt.subplot(4, 3, n_subplots)\n",
    "    temp_map_dict = {dio_map_dict[i]: i for i in dio_map_dict}\n",
    "    temp_df = data[data['Region']==i]\n",
    "    temp_df['Dine in option'] = temp_df['Dine in option'].map(temp_map_dict)\n",
    "    sns.countplot(x='Dine in option', data=temp_df, order=[True, False])\n",
    "    plt.title(i)\n",
    "plt.tight_layout()"
   ]
  },
  {
   "cell_type": "markdown",
   "id": "0202b564-2780-41dc-93e9-27f68f3d2053",
   "metadata": {},
   "source": [
    "Next we'll plot the distribution of \"Takeout option\" by the regions."
   ]
  },
  {
   "cell_type": "code",
   "execution_count": 62,
   "id": "b1fe21d7-7e29-4a3e-a028-f0963b5c6ea1",
   "metadata": {},
   "outputs": [
    {
     "data": {
      "image/png": "[encoded data removed]",
      "text/plain": [
       "<Figure size 720x720 with 10 Axes>"
      ]
     },
     "metadata": {
      "needs_background": "light"
     },
     "output_type": "display_data"
    }
   ],
   "source": [
    "n_subplots = 0\n",
    "fig = plt.figure(figsize=(10, 10))\n",
    "for i in data['Region'].unique():\n",
    "    n_subplots += 1\n",
    "    plt.subplot(4, 3, n_subplots)\n",
    "    temp_map_dict = {to_map_dict[i]: i for i in to_map_dict}\n",
    "    temp_df = data[data['Region']==i]\n",
    "    temp_df['Takeout option'] = temp_df['Takeout option'].map(temp_map_dict)\n",
    "    sns.countplot(x='Takeout option', data=temp_df, order=[True, False])\n",
    "    plt.title(i)\n",
    "plt.tight_layout()"
   ]
  },
  {
   "cell_type": "markdown",
   "id": "90ce96b9-60b6-438e-8f6e-be5d5ae6b1dc",
   "metadata": {},
   "source": [
    "Finally let's visualize pricing distribution by the regions."
   ]
  },
  {
   "cell_type": "code",
   "execution_count": 63,
   "id": "9a44ddcb-7406-4596-ad88-8889690971a0",
   "metadata": {},
   "outputs": [
    {
     "data": {
      "image/png": "[encoded data removed]",
      "text/plain": [
       "<Figure size 720x720 with 10 Axes>"
      ]
     },
     "metadata": {
      "needs_background": "light"
     },
     "output_type": "display_data"
    }
   ],
   "source": [
    "n_subplots = 0\n",
    "fig = plt.figure(figsize=(10, 10))\n",
    "for i in data['Region'].unique():\n",
    "    n_subplots += 1\n",
    "    plt.subplot(4, 3, n_subplots)\n",
    "    temp_map_dict = {1: '\\$', 2: '\\$\\$', 3: '\\$\\$\\$'}\n",
    "    temp_df = data[data['Region']==i]\n",
    "    temp_df['Price'] = temp_df['Price'].map(temp_map_dict)\n",
    "    sns.countplot(x='Price', data=temp_df, order=['\\$', '\\$\\$', '\\$\\$\\$'])\n",
    "    plt.title(i)\n",
    "plt.tight_layout()"
   ]
  },
  {
   "cell_type": "markdown",
   "id": "06de5e6d-6ab5-4c79-810b-31881b715399",
   "metadata": {},
   "source": [
    "As we can see from the above charts the coffee shop market is quite diverse across Ukraine's regions. Now let's proceed to segment construction."
   ]
  },
  {
   "cell_type": "markdown",
   "id": "0bd0b809-7860-47be-ac5b-0d7223e9fbcd",
   "metadata": {},
   "source": [
    "### Segmentation <a name=\"Part3\"></a>"
   ]
  },
  {
   "cell_type": "markdown",
   "id": "9bb9b132-c0e5-4c1e-a8f6-4b0884bc2db4",
   "metadata": {},
   "source": [
    "Let's try to implement hierarchical clustering method to get segments. Before applying it let's do some data wrangling."
   ]
  },
  {
   "cell_type": "code",
   "execution_count": 64,
   "id": "70141e5f-cacd-4dca-b09c-d0f53e405baf",
   "metadata": {},
   "outputs": [
    {
     "data": {
      "text/html": [
       "<div>\n",
       "<style scoped>\n",
       "    .dataframe tbody tr th:only-of-type {\n",
       "        vertical-align: middle;\n",
       "    }\n",
       "\n",
       "    .dataframe tbody tr th {\n",
       "        vertical-align: top;\n",
       "    }\n",
       "\n",
       "    .dataframe thead th {\n",
       "        text-align: right;\n",
       "    }\n",
       "</style>\n",
       "<table border=\"1\" class=\"dataframe\">\n",
       "  <thead>\n",
       "    <tr style=\"text-align: right;\">\n",
       "      <th></th>\n",
       "      <th>Rating</th>\n",
       "      <th>Reviews</th>\n",
       "      <th>Price</th>\n",
       "      <th>Delivery option</th>\n",
       "      <th>Dine in option</th>\n",
       "      <th>Takeout option</th>\n",
       "    </tr>\n",
       "  </thead>\n",
       "  <tbody>\n",
       "    <tr>\n",
       "      <th>count</th>\n",
       "      <td>200.00000</td>\n",
       "      <td>200.000000</td>\n",
       "      <td>200.000000</td>\n",
       "      <td>200.000000</td>\n",
       "      <td>200.000000</td>\n",
       "      <td>200.000000</td>\n",
       "    </tr>\n",
       "    <tr>\n",
       "      <th>mean</th>\n",
       "      <td>4.66650</td>\n",
       "      <td>616.540000</td>\n",
       "      <td>2.015000</td>\n",
       "      <td>0.315000</td>\n",
       "      <td>0.700000</td>\n",
       "      <td>0.720000</td>\n",
       "    </tr>\n",
       "    <tr>\n",
       "      <th>std</th>\n",
       "      <td>0.22243</td>\n",
       "      <td>1395.106825</td>\n",
       "      <td>0.186949</td>\n",
       "      <td>0.465682</td>\n",
       "      <td>0.459408</td>\n",
       "      <td>0.450126</td>\n",
       "    </tr>\n",
       "    <tr>\n",
       "      <th>min</th>\n",
       "      <td>3.90000</td>\n",
       "      <td>3.000000</td>\n",
       "      <td>1.000000</td>\n",
       "      <td>0.000000</td>\n",
       "      <td>0.000000</td>\n",
       "      <td>0.000000</td>\n",
       "    </tr>\n",
       "    <tr>\n",
       "      <th>25%</th>\n",
       "      <td>4.60000</td>\n",
       "      <td>44.500000</td>\n",
       "      <td>2.000000</td>\n",
       "      <td>0.000000</td>\n",
       "      <td>0.000000</td>\n",
       "      <td>0.000000</td>\n",
       "    </tr>\n",
       "    <tr>\n",
       "      <th>50%</th>\n",
       "      <td>4.70000</td>\n",
       "      <td>264.500000</td>\n",
       "      <td>2.000000</td>\n",
       "      <td>0.000000</td>\n",
       "      <td>1.000000</td>\n",
       "      <td>1.000000</td>\n",
       "    </tr>\n",
       "    <tr>\n",
       "      <th>75%</th>\n",
       "      <td>4.80000</td>\n",
       "      <td>780.750000</td>\n",
       "      <td>2.000000</td>\n",
       "      <td>1.000000</td>\n",
       "      <td>1.000000</td>\n",
       "      <td>1.000000</td>\n",
       "    </tr>\n",
       "    <tr>\n",
       "      <th>max</th>\n",
       "      <td>5.00000</td>\n",
       "      <td>17937.000000</td>\n",
       "      <td>3.000000</td>\n",
       "      <td>1.000000</td>\n",
       "      <td>1.000000</td>\n",
       "      <td>1.000000</td>\n",
       "    </tr>\n",
       "  </tbody>\n",
       "</table>\n",
       "</div>"
      ],
      "text/plain": [
       "          Rating       Reviews       Price  Delivery option  Dine in option  \\\n",
       "count  200.00000    200.000000  200.000000       200.000000      200.000000   \n",
       "mean     4.66650    616.540000    2.015000         0.315000        0.700000   \n",
       "std      0.22243   1395.106825    0.186949         0.465682        0.459408   \n",
       "min      3.90000      3.000000    1.000000         0.000000        0.000000   \n",
       "25%      4.60000     44.500000    2.000000         0.000000        0.000000   \n",
       "50%      4.70000    264.500000    2.000000         0.000000        1.000000   \n",
       "75%      4.80000    780.750000    2.000000         1.000000        1.000000   \n",
       "max      5.00000  17937.000000    3.000000         1.000000        1.000000   \n",
       "\n",
       "       Takeout option  \n",
       "count      200.000000  \n",
       "mean         0.720000  \n",
       "std          0.450126  \n",
       "min          0.000000  \n",
       "25%          0.000000  \n",
       "50%          1.000000  \n",
       "75%          1.000000  \n",
       "max          1.000000  "
      ]
     },
     "execution_count": 64,
     "metadata": {},
     "output_type": "execute_result"
    }
   ],
   "source": [
    "data.describe()"
   ]
  },
  {
   "cell_type": "code",
   "execution_count": 65,
   "id": "275327a3-4249-4b2a-a801-11e971eeee96",
   "metadata": {},
   "outputs": [
    {
     "data": {
      "text/html": [
       "<div>\n",
       "<style scoped>\n",
       "    .dataframe tbody tr th:only-of-type {\n",
       "        vertical-align: middle;\n",
       "    }\n",
       "\n",
       "    .dataframe tbody tr th {\n",
       "        vertical-align: top;\n",
       "    }\n",
       "\n",
       "    .dataframe thead th {\n",
       "        text-align: right;\n",
       "    }\n",
       "</style>\n",
       "<table border=\"1\" class=\"dataframe\">\n",
       "  <thead>\n",
       "    <tr style=\"text-align: right;\">\n",
       "      <th></th>\n",
       "      <th>Rating</th>\n",
       "      <th>Reviews</th>\n",
       "    </tr>\n",
       "  </thead>\n",
       "  <tbody>\n",
       "    <tr>\n",
       "      <th>0</th>\n",
       "      <td>4.6</td>\n",
       "      <td>206.0</td>\n",
       "    </tr>\n",
       "    <tr>\n",
       "      <th>1</th>\n",
       "      <td>5.0</td>\n",
       "      <td>24.0</td>\n",
       "    </tr>\n",
       "    <tr>\n",
       "      <th>2</th>\n",
       "      <td>5.0</td>\n",
       "      <td>11.0</td>\n",
       "    </tr>\n",
       "    <tr>\n",
       "      <th>3</th>\n",
       "      <td>4.4</td>\n",
       "      <td>331.0</td>\n",
       "    </tr>\n",
       "    <tr>\n",
       "      <th>4</th>\n",
       "      <td>5.0</td>\n",
       "      <td>12.0</td>\n",
       "    </tr>\n",
       "  </tbody>\n",
       "</table>\n",
       "</div>"
      ],
      "text/plain": [
       "   Rating  Reviews\n",
       "0     4.6    206.0\n",
       "1     5.0     24.0\n",
       "2     5.0     11.0\n",
       "3     4.4    331.0\n",
       "4     5.0     12.0"
      ]
     },
     "execution_count": 65,
     "metadata": {},
     "output_type": "execute_result"
    }
   ],
   "source": [
    "# There is an outlier in \"Reviews\" so let's get rid of it.\n",
    "data = data[data['Reviews']<15000]\n",
    "#temp_data = pd.get_dummies(data[['Region', 'Place type']], drop_first=True)\n",
    "# modified_data = data[[col for col in data.columns \n",
    "#                       if col not in ['Region', 'Place type', 'Place name']]]\n",
    "# modified_data = pd.concat([modified_data, temp_data], axis=1)\n",
    "modified_data = data[['Rating', 'Reviews']]\n",
    "modified_data.head()"
   ]
  },
  {
   "cell_type": "markdown",
   "id": "5de936f6-7bcd-472b-b192-df4f24eb851e",
   "metadata": {},
   "source": [
    "Let's apply StandardScaler to the modified data."
   ]
  },
  {
   "cell_type": "code",
   "execution_count": 66,
   "id": "9e45120f-13a1-403f-b8b6-6aabfa6f111d",
   "metadata": {},
   "outputs": [],
   "source": [
    "temp_scaler = StandardScaler()\n",
    "scaled_data = temp_scaler.fit_transform(modified_data)"
   ]
  },
  {
   "cell_type": "markdown",
   "id": "283c5dd9-3373-425f-8dc1-b7823b5e441e",
   "metadata": {},
   "source": [
    "Now we can implement clustering."
   ]
  },
  {
   "cell_type": "code",
   "execution_count": 67,
   "id": "6585181f-5743-4549-b965-7986a33558cf",
   "metadata": {},
   "outputs": [
    {
     "data": {
      "image/png": "[encoded data removed]",
      "text/plain": [
       "<Figure size 720x504 with 1 Axes>"
      ]
     },
     "metadata": {
      "needs_background": "light"
     },
     "output_type": "display_data"
    }
   ],
   "source": [
    "mergings = linkage(scaled_data, method='complete')\n",
    "fig = plt.figure(figsize=(10, 7))\n",
    "dendrogram(mergings)\n",
    "plt.show()"
   ]
  },
  {
   "cell_type": "code",
   "execution_count": 68,
   "id": "45058fca-6d30-472c-bef9-9f6a46ef5e98",
   "metadata": {},
   "outputs": [],
   "source": [
    "labels = fcluster(mergings, 3.5, criterion='distance')\n",
    "data['Segment'] = labels"
   ]
  },
  {
   "cell_type": "markdown",
   "id": "46736b66-2bc7-4c9f-a9cd-d2166fbb79c0",
   "metadata": {},
   "source": [
    "### Results <a name=\"Part4\"></a>"
   ]
  },
  {
   "cell_type": "markdown",
   "id": "05630931-5c6f-47dd-8c68-bf28c5b4db33",
   "metadata": {},
   "source": [
    "Let's use crosstab to observe which region's coffee shops are dominant in each segment."
   ]
  },
  {
   "cell_type": "code",
   "execution_count": 69,
   "id": "9fc01c91-dfb2-4dbc-9cb6-5f7e9bfb3b77",
   "metadata": {},
   "outputs": [
    {
     "data": {
      "text/html": [
       "<div>\n",
       "<style scoped>\n",
       "    .dataframe tbody tr th:only-of-type {\n",
       "        vertical-align: middle;\n",
       "    }\n",
       "\n",
       "    .dataframe tbody tr th {\n",
       "        vertical-align: top;\n",
       "    }\n",
       "\n",
       "    .dataframe thead th {\n",
       "        text-align: right;\n",
       "    }\n",
       "</style>\n",
       "<table border=\"1\" class=\"dataframe\">\n",
       "  <thead>\n",
       "    <tr style=\"text-align: right;\">\n",
       "      <th>Region</th>\n",
       "      <th>Dnipro</th>\n",
       "      <th>Kharkiv</th>\n",
       "      <th>Kherson</th>\n",
       "      <th>Khrivoy Rog</th>\n",
       "      <th>Kiev</th>\n",
       "      <th>Lviv</th>\n",
       "      <th>Mariupol</th>\n",
       "      <th>Odessa</th>\n",
       "      <th>Poltava</th>\n",
       "      <th>Zaporozhye</th>\n",
       "      <th>All</th>\n",
       "    </tr>\n",
       "    <tr>\n",
       "      <th>Segment</th>\n",
       "      <th></th>\n",
       "      <th></th>\n",
       "      <th></th>\n",
       "      <th></th>\n",
       "      <th></th>\n",
       "      <th></th>\n",
       "      <th></th>\n",
       "      <th></th>\n",
       "      <th></th>\n",
       "      <th></th>\n",
       "      <th></th>\n",
       "    </tr>\n",
       "  </thead>\n",
       "  <tbody>\n",
       "    <tr>\n",
       "      <th>1</th>\n",
       "      <td>5</td>\n",
       "      <td>4</td>\n",
       "      <td>3</td>\n",
       "      <td>3</td>\n",
       "      <td>0</td>\n",
       "      <td>1</td>\n",
       "      <td>4</td>\n",
       "      <td>1</td>\n",
       "      <td>3</td>\n",
       "      <td>4</td>\n",
       "      <td>28</td>\n",
       "    </tr>\n",
       "    <tr>\n",
       "      <th>2</th>\n",
       "      <td>1</td>\n",
       "      <td>1</td>\n",
       "      <td>0</td>\n",
       "      <td>0</td>\n",
       "      <td>2</td>\n",
       "      <td>4</td>\n",
       "      <td>0</td>\n",
       "      <td>2</td>\n",
       "      <td>0</td>\n",
       "      <td>0</td>\n",
       "      <td>10</td>\n",
       "    </tr>\n",
       "    <tr>\n",
       "      <th>3</th>\n",
       "      <td>9</td>\n",
       "      <td>11</td>\n",
       "      <td>12</td>\n",
       "      <td>11</td>\n",
       "      <td>11</td>\n",
       "      <td>5</td>\n",
       "      <td>15</td>\n",
       "      <td>15</td>\n",
       "      <td>11</td>\n",
       "      <td>12</td>\n",
       "      <td>112</td>\n",
       "    </tr>\n",
       "    <tr>\n",
       "      <th>4</th>\n",
       "      <td>5</td>\n",
       "      <td>4</td>\n",
       "      <td>5</td>\n",
       "      <td>6</td>\n",
       "      <td>7</td>\n",
       "      <td>9</td>\n",
       "      <td>1</td>\n",
       "      <td>2</td>\n",
       "      <td>6</td>\n",
       "      <td>4</td>\n",
       "      <td>49</td>\n",
       "    </tr>\n",
       "    <tr>\n",
       "      <th>All</th>\n",
       "      <td>20</td>\n",
       "      <td>20</td>\n",
       "      <td>20</td>\n",
       "      <td>20</td>\n",
       "      <td>20</td>\n",
       "      <td>19</td>\n",
       "      <td>20</td>\n",
       "      <td>20</td>\n",
       "      <td>20</td>\n",
       "      <td>20</td>\n",
       "      <td>199</td>\n",
       "    </tr>\n",
       "  </tbody>\n",
       "</table>\n",
       "</div>"
      ],
      "text/plain": [
       "Region   Dnipro  Kharkiv  Kherson  Khrivoy Rog  Kiev  Lviv  Mariupol  Odessa  \\\n",
       "Segment                                                                        \n",
       "1             5        4        3            3     0     1         4       1   \n",
       "2             1        1        0            0     2     4         0       2   \n",
       "3             9       11       12           11    11     5        15      15   \n",
       "4             5        4        5            6     7     9         1       2   \n",
       "All          20       20       20           20    20    19        20      20   \n",
       "\n",
       "Region   Poltava  Zaporozhye  All  \n",
       "Segment                            \n",
       "1              3           4   28  \n",
       "2              0           0   10  \n",
       "3             11          12  112  \n",
       "4              6           4   49  \n",
       "All           20          20  199  "
      ]
     },
     "execution_count": 69,
     "metadata": {},
     "output_type": "execute_result"
    }
   ],
   "source": [
    "pd.crosstab(data['Segment'], data['Region'], margins=True)"
   ]
  },
  {
   "cell_type": "markdown",
   "id": "f8ab78b8-8469-4d29-87c4-046555d9f31d",
   "metadata": {},
   "source": [
    "Delivery option distribution by the segments"
   ]
  },
  {
   "cell_type": "code",
   "execution_count": 70,
   "id": "ee7f5d11-63e4-480f-bbeb-143ca36bba1c",
   "metadata": {},
   "outputs": [
    {
     "data": {
      "image/png": "[encoded data removed]",
      "text/plain": [
       "<Figure size 576x432 with 4 Axes>"
      ]
     },
     "metadata": {
      "needs_background": "light"
     },
     "output_type": "display_data"
    }
   ],
   "source": [
    "n_subplots = 0\n",
    "fig = plt.figure(figsize=(8, 6))\n",
    "for i in range(1, 5):\n",
    "    n_subplots += 1\n",
    "    plt.subplot(2, 2, n_subplots)\n",
    "    temp_map_dict = {1: 'Yes', 0: 'No'}\n",
    "    temp_df = data[data['Segment']==i]\n",
    "    temp_df['Delivery option'] = temp_df['Delivery option'].map(temp_map_dict)\n",
    "    sns.countplot(x='Delivery option', data = temp_df, order=['Yes', 'No'])\n",
    "    plt.title(f'Segment {i}')\n",
    "plt.tight_layout()"
   ]
  },
  {
   "cell_type": "markdown",
   "id": "90243a00-8c54-45a7-8c46-35eaa421bb12",
   "metadata": {},
   "source": [
    "Dine in option distribution by the segments"
   ]
  },
  {
   "cell_type": "code",
   "execution_count": 71,
   "id": "d1891ac0-5834-4005-bb7e-a659801a5399",
   "metadata": {},
   "outputs": [
    {
     "data": {
      "image/png": "[encoded data removed]",
      "text/plain": [
       "<Figure size 576x432 with 4 Axes>"
      ]
     },
     "metadata": {
      "needs_background": "light"
     },
     "output_type": "display_data"
    }
   ],
   "source": [
    "n_subplots = 0\n",
    "fig = plt.figure(figsize=(8, 6))\n",
    "for i in range(1, 5):\n",
    "    n_subplots += 1\n",
    "    plt.subplot(2, 2, n_subplots)\n",
    "    temp_df = data[data['Segment']==i]\n",
    "    temp_map_dict = {1: 'Yes', 0: 'No'}\n",
    "    temp_df['Dine in option'] = temp_df['Dine in option'].map(temp_map_dict)\n",
    "    sns.countplot(x='Dine in option', data = temp_df, order=['Yes', 'No'])\n",
    "    plt.title(f'Segment {i}')\n",
    "plt.tight_layout()"
   ]
  },
  {
   "cell_type": "markdown",
   "id": "492e6a87-b8cf-441e-b6c5-932ffa1377c4",
   "metadata": {},
   "source": [
    "Takeout option distribution by the segments"
   ]
  },
  {
   "cell_type": "code",
   "execution_count": 72,
   "id": "41ee24e7-16fc-46a0-a4e1-1d83b30f93bd",
   "metadata": {},
   "outputs": [
    {
     "data": {
      "image/png": "[encoded data removed]",
      "text/plain": [
       "<Figure size 576x432 with 4 Axes>"
      ]
     },
     "metadata": {
      "needs_background": "light"
     },
     "output_type": "display_data"
    }
   ],
   "source": [
    "n_subplots = 0\n",
    "fig = plt.figure(figsize=(8, 6))\n",
    "for i in range(1, 5):\n",
    "    n_subplots += 1\n",
    "    plt.subplot(2, 2, n_subplots)\n",
    "    temp_df = data[data['Segment']==i]\n",
    "    temp_map_dict = {1: 'Yes', 0: 'No'}\n",
    "    temp_df['Takeout option'] = temp_df['Takeout option'].map(temp_map_dict)\n",
    "    sns.countplot(x='Takeout option', data = temp_df, order=['Yes', 'No'])\n",
    "    plt.title(f'Segment {i}')\n",
    "plt.tight_layout()"
   ]
  },
  {
   "cell_type": "markdown",
   "id": "b2caaed2-4dd7-40d8-98da-9cd3bc410450",
   "metadata": {},
   "source": [
    "Let's show pricing by the segments."
   ]
  },
  {
   "cell_type": "code",
   "execution_count": 73,
   "id": "91d5e0d5-4d8d-472a-995e-2c5160e84a35",
   "metadata": {},
   "outputs": [
    {
     "data": {
      "image/png": "[encoded data removed]",
      "text/plain": [
       "<Figure size 576x432 with 4 Axes>"
      ]
     },
     "metadata": {
      "needs_background": "light"
     },
     "output_type": "display_data"
    }
   ],
   "source": [
    "n_subplots = 0\n",
    "fig = plt.figure(figsize=(8, 6))\n",
    "for i in range(1, 5):\n",
    "    n_subplots += 1\n",
    "    plt.subplot(2, 2, n_subplots)\n",
    "    temp_df = data[data['Segment']==i]\n",
    "    temp_map_dict = {1: '\\$', 2: '\\$\\$', 3: '\\$\\$\\$'}\n",
    "    temp_df['Price'] = temp_df['Price'].map(temp_map_dict)\n",
    "    sns.countplot(x='Price', data = temp_df, order=['\\$', '\\$\\$', '\\$\\$\\$'])\n",
    "    plt.title(f'Segment {i}')\n",
    "plt.tight_layout()"
   ]
  },
  {
   "cell_type": "markdown",
   "id": "334d264f-e80c-4239-aad7-8506a07ec5f6",
   "metadata": {},
   "source": [
    "Rating distribution by the segments"
   ]
  },
  {
   "cell_type": "code",
   "execution_count": 74,
   "id": "84f96a79-b5f4-4ff1-8718-42905d51dff4",
   "metadata": {},
   "outputs": [
    {
     "data": {
      "image/png": "[encoded data removed]",
      "text/plain": [
       "<Figure size 432x288 with 1 Axes>"
      ]
     },
     "metadata": {
      "needs_background": "light"
     },
     "output_type": "display_data"
    }
   ],
   "source": [
    "sns.violinplot(x='Segment', y='Rating', data=data)\n",
    "plt.show()"
   ]
  },
  {
   "cell_type": "code",
   "execution_count": 75,
   "id": "319bfdf3-3d5d-4244-bd76-292c50642595",
   "metadata": {},
   "outputs": [
    {
     "data": {
      "text/html": [
       "<div>\n",
       "<style scoped>\n",
       "    .dataframe tbody tr th:only-of-type {\n",
       "        vertical-align: middle;\n",
       "    }\n",
       "\n",
       "    .dataframe tbody tr th {\n",
       "        vertical-align: top;\n",
       "    }\n",
       "\n",
       "    .dataframe thead th {\n",
       "        text-align: right;\n",
       "    }\n",
       "</style>\n",
       "<table border=\"1\" class=\"dataframe\">\n",
       "  <thead>\n",
       "    <tr style=\"text-align: right;\">\n",
       "      <th></th>\n",
       "      <th>std</th>\n",
       "      <th>mean</th>\n",
       "      <th>median</th>\n",
       "    </tr>\n",
       "    <tr>\n",
       "      <th>Segment</th>\n",
       "      <th></th>\n",
       "      <th></th>\n",
       "      <th></th>\n",
       "    </tr>\n",
       "  </thead>\n",
       "  <tbody>\n",
       "    <tr>\n",
       "      <th>1</th>\n",
       "      <td>0.196362</td>\n",
       "      <td>4.317857</td>\n",
       "      <td>4.40</td>\n",
       "    </tr>\n",
       "    <tr>\n",
       "      <th>2</th>\n",
       "      <td>0.133749</td>\n",
       "      <td>4.670000</td>\n",
       "      <td>4.65</td>\n",
       "    </tr>\n",
       "    <tr>\n",
       "      <th>3</th>\n",
       "      <td>0.144190</td>\n",
       "      <td>4.795536</td>\n",
       "      <td>4.80</td>\n",
       "    </tr>\n",
       "    <tr>\n",
       "      <th>4</th>\n",
       "      <td>0.112183</td>\n",
       "      <td>4.569388</td>\n",
       "      <td>4.60</td>\n",
       "    </tr>\n",
       "  </tbody>\n",
       "</table>\n",
       "</div>"
      ],
      "text/plain": [
       "              std      mean  median\n",
       "Segment                            \n",
       "1        0.196362  4.317857    4.40\n",
       "2        0.133749  4.670000    4.65\n",
       "3        0.144190  4.795536    4.80\n",
       "4        0.112183  4.569388    4.60"
      ]
     },
     "execution_count": 75,
     "metadata": {},
     "output_type": "execute_result"
    }
   ],
   "source": [
    "data.groupby('Segment', as_index=False)['Rating'].agg(['std', 'mean', 'median'])"
   ]
  },
  {
   "cell_type": "markdown",
   "id": "9a0a0e04-34a2-43ff-b8e1-d04c1ee3f948",
   "metadata": {},
   "source": [
    "Review distribution by segment"
   ]
  },
  {
   "cell_type": "code",
   "execution_count": 76,
   "id": "7547ad35-ae1d-4f48-aa31-885d38697544",
   "metadata": {},
   "outputs": [
    {
     "data": {
      "image/png": "[encoded data removed]",
      "text/plain": [
       "<Figure size 432x288 with 1 Axes>"
      ]
     },
     "metadata": {
      "needs_background": "light"
     },
     "output_type": "display_data"
    }
   ],
   "source": [
    "sns.violinplot(x='Segment', y='Reviews', data=data)\n",
    "plt.show()"
   ]
  },
  {
   "cell_type": "code",
   "execution_count": 77,
   "id": "5bf2e38b-a8f3-4f99-9764-ff652800622b",
   "metadata": {},
   "outputs": [
    {
     "data": {
      "text/html": [
       "<div>\n",
       "<style scoped>\n",
       "    .dataframe tbody tr th:only-of-type {\n",
       "        vertical-align: middle;\n",
       "    }\n",
       "\n",
       "    .dataframe tbody tr th {\n",
       "        vertical-align: top;\n",
       "    }\n",
       "\n",
       "    .dataframe thead th {\n",
       "        text-align: right;\n",
       "    }\n",
       "</style>\n",
       "<table border=\"1\" class=\"dataframe\">\n",
       "  <thead>\n",
       "    <tr style=\"text-align: right;\">\n",
       "      <th></th>\n",
       "      <th>std</th>\n",
       "      <th>mean</th>\n",
       "      <th>median</th>\n",
       "    </tr>\n",
       "    <tr>\n",
       "      <th>Segment</th>\n",
       "      <th></th>\n",
       "      <th></th>\n",
       "      <th></th>\n",
       "    </tr>\n",
       "  </thead>\n",
       "  <tbody>\n",
       "    <tr>\n",
       "      <th>1</th>\n",
       "      <td>299.870281</td>\n",
       "      <td>260.500000</td>\n",
       "      <td>168.5</td>\n",
       "    </tr>\n",
       "    <tr>\n",
       "      <th>2</th>\n",
       "      <td>391.235138</td>\n",
       "      <td>2440.400000</td>\n",
       "      <td>2350.0</td>\n",
       "    </tr>\n",
       "    <tr>\n",
       "      <th>3</th>\n",
       "      <td>164.969132</td>\n",
       "      <td>163.821429</td>\n",
       "      <td>111.5</td>\n",
       "    </tr>\n",
       "    <tr>\n",
       "      <th>4</th>\n",
       "      <td>404.466204</td>\n",
       "      <td>1129.081633</td>\n",
       "      <td>1009.0</td>\n",
       "    </tr>\n",
       "  </tbody>\n",
       "</table>\n",
       "</div>"
      ],
      "text/plain": [
       "                std         mean  median\n",
       "Segment                                 \n",
       "1        299.870281   260.500000   168.5\n",
       "2        391.235138  2440.400000  2350.0\n",
       "3        164.969132   163.821429   111.5\n",
       "4        404.466204  1129.081633  1009.0"
      ]
     },
     "execution_count": 77,
     "metadata": {},
     "output_type": "execute_result"
    }
   ],
   "source": [
    "data.groupby('Segment', as_index=False)['Reviews'].agg(['std', 'mean', 'median'])"
   ]
  },
  {
   "cell_type": "markdown",
   "id": "ea91a1d0-9975-4845-a77a-6ceaa6e7ecee",
   "metadata": {},
   "source": [
    "The table below summarizes the characteristics for each segment derived. Specifically \"Shops\" column shows how many shops each segment contains. 4 columns (namely \"Delivery option\", \"Dine in option\", \"Takeout option\", and \"High Pricing\") show percentage of shops possessing column specific option in each segment. Finally \"Rating\" and \"Review\" columns contain average rating and review for each segment."
   ]
  },
  {
   "cell_type": "markdown",
   "id": "6a98c177-6e35-4355-9975-ab37208a8d44",
   "metadata": {},
   "source": [
    "|Segment|Shops|Delivery option (%)|Dine in option (%)|Takeout option (%)|Rating|Review|High Pricing (%)|\n",
    "|----------|--------|--------------------|------------------|-------------------|--------|---------|---------|\n",
    "|1|28|14|57|79|4.318|260|0|\n",
    "|2|10|40|90|90|4.670|2440|10|\n",
    "|3|112|30|58|63|4.795|164|2|\n",
    "|4|49|41|100|84|4.569|1129|4|"
   ]
  },
  {
   "cell_type": "markdown",
   "id": "c642e8e3-2380-4064-af3a-33ad2284f3fe",
   "metadata": {},
   "source": [
    "So in segment 1 we have 28 shops that have the lowest values in terms of average rating, high pricing, dining and delivery options, among all other shops in other segments. The shops in this segment show modest results in terms of takeout option and review on average. Segment 2 contains 10 shops with the second best result in terms of delivery option, dine in option, and average rating. The shops in this segment possess the highest results in terms of takeout option, average review, and high pricing. In segment 3 we have 112 shops showing modest results in terms of high pricing, delivery and dine in options. In addition this segment contains shops with the highest rating and the lowest takeout option and average reviews. Finally the fourth segment shows the best result in terms of delivery and dine in options. Meanwhile it possesses the second highest percentage of takeout option, high pricing, and average reviews among all other segments. This segment shows modest results in terms of average rating."
   ]
  },
  {
   "cell_type": "code",
   "execution_count": null,
   "id": "235c4d91-b046-4536-aedf-f8ae25fbae33",
   "metadata": {},
   "outputs": [],
   "source": []
  }
 ],
 "metadata": {
  "colab": {
   "name": "Welcome to DataCamp Workspaces.ipynb",
   "provenance": []
  },
  "kernelspec": {
   "display_name": "Python 3 (ipykernel)",
   "language": "python",
   "name": "python3"
  },
  "language_info": {
   "codemirror_mode": {
    "name": "ipython",
    "version": 3
   },
   "file_extension": ".py",
   "mimetype": "text/x-python",
   "name": "python",
   "nbconvert_exporter": "python",
   "pygments_lexer": "ipython3",
   "version": "3.8.10"
  }
 },
 "nbformat": 4,
 "nbformat_minor": 5
}
